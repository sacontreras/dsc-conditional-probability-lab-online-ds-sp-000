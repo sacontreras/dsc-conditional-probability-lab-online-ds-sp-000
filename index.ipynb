{
 "cells": [
  {
   "cell_type": "markdown",
   "metadata": {},
   "source": [
    "# Conditional Probability - Lab\n",
    "\n",
    "## Introduction\n",
    "\n",
    "In order to be ready for real-world applications of probability, it is important to understand what happens when probabilities are not independent. Very often, the probability of a certain event depends on other events happening! Let's see how this all works in this lab.\n",
    "\n",
    "## Objectives\n",
    "\n",
    "You will be able to:\n",
    "\n",
    "* Differentiate between independent and dependent events\n",
    "* Use the multiplication rule to find the probability of the intersection of two events\n",
    "\n",
    "## Exercise 1\n",
    "A coin is tossed and a single 6-sided dice is rolled. Find the probability of landing on the head side of the coin and rolling a 3 on the dice."
   ]
  },
  {
   "cell_type": "code",
   "execution_count": 1,
   "metadata": {},
   "outputs": [
    {
     "data": {
      "text/plain": [
       "0.08333333333333333"
      ]
     },
     "execution_count": 1,
     "metadata": {},
     "output_type": "execute_result"
    }
   ],
   "source": [
    "# Your code here\n",
    "P_coin_head = 1/2\n",
    "P_die_3 = 1/6\n",
    "P_coin_head_and_die_3 = P_coin_head * P_die_3\n",
    "P_coin_head_and_die_3"
   ]
  },
  {
   "cell_type": "markdown",
   "metadata": {},
   "source": [
    "## Exercise 2\n",
    "\n",
    "\n",
    "After conducting a survey, one of the outcomes was that 8 out of 10 of the survey subjects liked chocolate chip cookies. If three survey subjects are chosen at random **with replacement**, what is the probability that all three like chocolate chip cookies?"
   ]
  },
  {
   "cell_type": "code",
   "execution_count": 2,
   "metadata": {},
   "outputs": [
    {
     "data": {
      "text/plain": [
       "0.5120000000000001"
      ]
     },
     "execution_count": 2,
     "metadata": {},
     "output_type": "execute_result"
    }
   ],
   "source": [
    "# Your code here\n",
    "P_like_ccc = 8/10\n",
    "P_3_chosen_with_replacement_like_ccc = P_like_ccc**3\n",
    "P_3_chosen_with_replacement_like_ccc"
   ]
  },
  {
   "cell_type": "markdown",
   "metadata": {},
   "source": [
    "## Exercise 3\n",
    "70% of your friends like chocolate flavored ice cream, and 35% like chocolate AND like strawberry flavors.\n",
    "\n",
    "What percent of those who like chocolate also like strawberry?"
   ]
  },
  {
   "cell_type": "code",
   "execution_count": 3,
   "metadata": {},
   "outputs": [
    {
     "data": {
      "text/plain": [
       "0.5"
      ]
     },
     "execution_count": 3,
     "metadata": {},
     "output_type": "execute_result"
    }
   ],
   "source": [
    "# Your code here\n",
    "P_c = .70\n",
    "P_c_and_s = .35\n",
    "P_s = P_c_and_s/P_c\n",
    "P_s"
   ]
  },
  {
   "cell_type": "markdown",
   "metadata": {},
   "source": [
    "50% of your friends who like chocolate also like strawberry\n",
    "\n",
    "## Exercise 4\n",
    "What is the probability of drawing 2 consecutive aces from a deck of cards. "
   ]
  },
  {
   "cell_type": "code",
   "execution_count": 4,
   "metadata": {},
   "outputs": [
    {
     "data": {
      "text/plain": [
       "0.004524886877828055"
      ]
     },
     "execution_count": 4,
     "metadata": {},
     "output_type": "execute_result"
    }
   ],
   "source": [
    "# Your code here\n",
    "P_first_ace = 4/52 # we start with 4 aces in the deck\n",
    "P_second_ace__given__first_ace = 3/51 # after choosing an ace from 52 cards, there are 3 aces and 51 cards left\n",
    "P_ace_and_ace = P_first_ace * P_second_ace__given__first_ace\n",
    "P_ace_and_ace"
   ]
  },
  {
   "cell_type": "markdown",
   "metadata": {},
   "source": [
    "## Exercise 5\n",
    "In a manufacturing factory that produces a certain product, there are 100 units of the product, 5 of which are defective. We pick three units from the 100 units at random. \n",
    "\n",
    "What is the probability that none of them are defective?\n",
    "Hint: Use the chain rule here!"
   ]
  },
  {
   "cell_type": "code",
   "execution_count": 5,
   "metadata": {},
   "outputs": [
    {
     "data": {
      "text/plain": [
       "0.8473523109886746"
      ]
     },
     "execution_count": 5,
     "metadata": {},
     "output_type": "execute_result"
    }
   ],
   "source": [
    "# Your code here\n",
    "P_prod_1_not_def = 95/100\n",
    "P_prod_2_not_def__given__prod_1_not_def = 94/99 # there are still 5 products that are defective\n",
    "P_prod_3_not_def__given__prod_2_not_def__given__prod_1_not_def = 93/99 # there are still 5 products that are defective\n",
    "P_none_def = P_prod_1_not_def * P_prod_2_not_def__given__prod_1_not_def * P_prod_3_not_def__given__prod_2_not_def__given__prod_1_not_def\n",
    "P_none_def"
   ]
  },
  {
   "cell_type": "markdown",
   "metadata": {},
   "source": [
    "## Exercise 6\n",
    "\n",
    "Let's consider the example where 2 dice are thrown. Given that **at least one** of the dice has come up on a number higher than 4, what is the probability that the sum is 8?\n",
    "\n",
    "Let $i,j$ be the numbers shown on the dice. The events $A$ and $B$ are described below:\n",
    "\n",
    "* **Event $A$ is when either $i$ or $j$ is 5 or 6** (keep an eye on either - or)\n",
    "* **Event $B$ is when $i + j = 8$**\n",
    "\n",
    "\n",
    "* What is the size of sample space $\\Omega$ ?\n",
    "* What is $P(A \\cap B)$ ?\n",
    "* What is $P(A)$ ?\n",
    "* Use above to calculate $P(B \\mid A)$"
   ]
  },
  {
   "cell_type": "code",
   "execution_count": 6,
   "metadata": {},
   "outputs": [
    {
     "name": "stdout",
     "output_type": "stream",
     "text": [
      "size of sample space is 36\n",
      "probability of event B, that one die rolled is greater than 4 AND the sum of both is 8 is 0.1111111111111111\n",
      "probability of event A, that only one of the dice is greater than 4 is 0.5555555555555556\n",
      "probability of event B, given event A, that the sum of the dice is 8, given that only one of them is greater than 4 is 0.19999999999999998\n"
     ]
    }
   ],
   "source": [
    "# Your code here\n",
    "ss = 6*6\n",
    "print(f\"size of sample space is {ss}\")\n",
    "\n",
    "P_A_and_B = ((1/6)*(1/6)) * 4 # (d1 is 5 AND d2 is 3) OR (d1 is 3 AND d2 is 5) OR (d1 is 6 AND d2 is 2) OR (d1 is 2 AND d2 is 6)\n",
    "print(f\"probability of event B, that one die rolled is greater than 4 AND the sum of both is 8 is {P_A_and_B}\")\n",
    "\n",
    "P_d1_5_or_6 = 2/6 # d1 is 5 or 6\n",
    "P_d2_5_or_6 = 2/6 # d2 is 5 or 6\n",
    "P_d1_5_or_6__and__d2_5_or_6 = P_d1_5_or_6 * P_d2_5_or_6\n",
    "P_A = P_d1_5_or_6 + P_d2_5_or_6 - P_d1_5_or_6__and__d2_5_or_6\n",
    "print(f\"probability of event A, that only one of the dice is greater than 4 is {P_A}\")\n",
    "\n",
    "P_B_given_A = P_A_and_B/P_A\n",
    "print(f\"probability of event B, given event A, that the sum of the dice is 8, given that only one of them is greater than 4 is {P_B_given_A}\")"
   ]
  },
  {
   "cell_type": "markdown",
   "metadata": {},
   "source": [
    "## Exercise 7\n",
    "\n",
    "Let's consider a credit card example. At a supermarket, customers are selected randomly, the store owner recorded whether costumers owned a Visa card (event A) or an Amex credit card (event B). Some customers own both cards.\n",
    "You can assume that:\n",
    "\n",
    "- $P(A)$ = 0.5\n",
    "- $P(B)$ = 0.4\n",
    "- both $A$ and $B$ = 0.25.\n",
    "\n",
    "\n",
    "With the knowledge we have about conditional probabilities, compute and interpret the following probabilities:\n",
    "\n",
    "- $P(B \\mid A)$\n",
    "- $P(B' \\mid A)$\n",
    "- $P(A \\mid B)$\n",
    "- $P(A' \\mid B)$\n"
   ]
  },
  {
   "cell_type": "code",
   "execution_count": 7,
   "metadata": {},
   "outputs": [
    {
     "name": "stdout",
     "output_type": "stream",
     "text": [
      "probability that someone has an Amex, given they have a Visa is 0.5\n",
      "probability someone does not have an Amex, given they have a Visa is 0.5\n",
      "probability someone has a Visa, given they have an Amex is 0.625\n",
      "probability someone does not have an Visa, given they have a Amex is 0.37500000000000006\n"
     ]
    }
   ],
   "source": [
    "# Your code here\n",
    "P_A = 0.5\n",
    "P_Visa = P_A\n",
    "\n",
    "P_B = 0.4\n",
    "P_Amex = P_B\n",
    "\n",
    "P_A_and_B = 0.25\n",
    "P_Visa_and_Amex = P_A_and_B\n",
    "\n",
    "# probability someone has an Amex, given they have a Visa\n",
    "P_Amex_given_Visa = P_Visa_and_Amex/P_Visa\n",
    "P_B_given_A = P_Amex_given_Visa\n",
    "print(f\"probability that someone has an Amex, given they have a Visa is {P_B_given_A}\")\n",
    "\n",
    "P_Visa_but_no_Amex = P_Visa - P_Visa_and_Amex # owns a Visa but not an Amex\n",
    "P_no_Amex_given_Visa = P_Visa_but_no_Amex/P_Visa\n",
    "P_not_B_given_A = P_no_Amex_given_Visa\n",
    "print(f\"probability someone does not have an Amex, given they have a Visa is {P_not_B_given_A}\")\n",
    "\n",
    "P_Visa_given_Amex = P_Visa_and_Amex/P_Amex\n",
    "P_A_given_B = P_Visa_given_Amex\n",
    "print(f\"probability someone has a Visa, given they have an Amex is {P_A_given_B}\")\n",
    "\n",
    "P_Amex_but_no_Visa = P_Amex - P_Visa_and_Amex # owns Amex but not a Visa\n",
    "P_no_Visa_given_Amex = P_Amex_but_no_Visa/P_Amex\n",
    "P_not_A_given_B = P_no_Visa_given_Amex\n",
    "print(f\"probability someone does not have an Visa, given they have a Amex is {P_not_A_given_B}\")"
   ]
  },
  {
   "cell_type": "markdown",
   "metadata": {},
   "source": [
    "## Summary \n",
    "\n",
    "In this lab, you practiced conditional probability and its theorem with some simple problems. The key takeaway from this lab is to be able to identify random events as dependent or independent and calculating the probability of their occurrence using appropriate methods. Next, you'll learn about some more conditional probability axioms, building on the knowledge we have so far. "
   ]
  }
 ],
 "metadata": {
  "kernelspec": {
   "display_name": "Python [conda env:learn-env] *",
   "language": "python",
   "name": "conda-env-learn-env-py"
  },
  "language_info": {
   "codemirror_mode": {
    "name": "ipython",
    "version": 3
   },
   "file_extension": ".py",
   "mimetype": "text/x-python",
   "name": "python",
   "nbconvert_exporter": "python",
   "pygments_lexer": "ipython3",
   "version": "3.6.10"
  },
  "toc": {
   "base_numbering": 1,
   "nav_menu": {},
   "number_sections": true,
   "sideBar": true,
   "skip_h1_title": false,
   "title_cell": "Table of Contents",
   "title_sidebar": "Contents",
   "toc_cell": false,
   "toc_position": {},
   "toc_section_display": true,
   "toc_window_display": false
  }
 },
 "nbformat": 4,
 "nbformat_minor": 4
}
